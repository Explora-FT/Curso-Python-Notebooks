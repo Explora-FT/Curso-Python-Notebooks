{
 "cells": [
  {
   "cell_type": "markdown",
   "metadata": {},
   "source": [
    "# Explora - Python\n",
    "## Estruturas de Controle\n",
    "---\n",
    "Com as estruturas de controle, permitimos que o programa tome decisões, desviando ou repetindo trechos de código."
   ]
  },
  {
   "cell_type": "markdown",
   "metadata": {},
   "source": [
    "## if\n",
    "Com `if` é possível executar determinada parte do código dependendo do resultado de uma condição lógica. Para isso, é utilizada a seguinte sintaxe:"
   ]
  },
  {
   "cell_type": "code",
   "execution_count": 1,
   "metadata": {},
   "outputs": [
    {
     "name": "stdout",
     "output_type": "stream",
     "text": [
      "X é menor que 3\n",
      "Valor de x:  2\n"
     ]
    }
   ],
   "source": [
    "x = 2\n",
    "if x < 3:\n",
    "    print('X é menor que 3')\n",
    "print('Valor de x: ', x)"
   ]
  },
  {
   "cell_type": "markdown",
   "metadata": {},
   "source": [
    "Perceba que o bloco `print('X é menor que 3')` só é executado quando a condição `x < 3` é **verdadeira**! Já `print('Valor de x: ', x)` sempre será executado por estar fora do bloco.<br>\n",
    "Mas e se for preciso executar algo quando a condição for **falsa**?"
   ]
  },
  {
   "cell_type": "markdown",
   "metadata": {},
   "source": [
    "Para esses casos temos o `else`:"
   ]
  },
  {
   "cell_type": "code",
   "execution_count": 2,
   "metadata": {},
   "outputs": [
    {
     "name": "stdout",
     "output_type": "stream",
     "text": [
      "X é maior ou igual a 3\n",
      "Valor de x:  3.5\n"
     ]
    }
   ],
   "source": [
    "x = 3.5\n",
    "if x < 3:\n",
    "    print('X é menor que 3')\n",
    "else:\n",
    "    print('X é maior ou igual a 3')\n",
    "print('Valor de x: ', x)"
   ]
  },
  {
   "cell_type": "markdown",
   "metadata": {},
   "source": [
    "Em uma situação onde são necessárias mais condições no `else`, podemos utilizar o `elif`. Ele permite adicionar uma condição ao `else`."
   ]
  },
  {
   "cell_type": "code",
   "execution_count": 3,
   "metadata": {},
   "outputs": [
    {
     "name": "stdout",
     "output_type": "stream",
     "text": [
      "Y é menor que 8\n"
     ]
    }
   ],
   "source": [
    "x = 3\n",
    "y = 5\n",
    "if x > y:\n",
    "    print('X é maior que Y')\n",
    "elif x > 3:\n",
    "    print('X é maior que 3')\n",
    "elif y < 8:\n",
    "    print('Y é menor que 8')\n",
    "else:\n",
    "    print('Y é maior ou igual a 8')"
   ]
  },
  {
   "cell_type": "markdown",
   "metadata": {},
   "source": [
    "💡 Experimente alterar o valor das variáveis, condições e explorar novas saídas!"
   ]
  },
  {
   "cell_type": "markdown",
   "metadata": {},
   "source": [
    "---\n",
    "### while\n",
    "Com o uso de laços, podemos realizar a repetição de um bloco, até que uma determinada condição se torne falsa.\n"
   ]
  },
  {
   "cell_type": "markdown",
   "metadata": {},
   "source": [
    "Imagine uma situação onde seja necessário executar um trecho de código 10 vezes. Ao invés de replicar o código, podemos fazer uso de um `while`."
   ]
  },
  {
   "cell_type": "code",
   "execution_count": 4,
   "metadata": {},
   "outputs": [
    {
     "name": "stdout",
     "output_type": "stream",
     "text": [
      "0\n",
      "1\n",
      "2\n",
      "3\n",
      "4\n",
      "5\n",
      "6\n",
      "7\n",
      "8\n",
      "9\n"
     ]
    }
   ],
   "source": [
    "x = 0\n",
    "while x < 10:\n",
    "    print(x)\n",
    "    x += 1"
   ]
  },
  {
   "cell_type": "markdown",
   "metadata": {},
   "source": [
    "É possivel interromper a repetição durante o código utilizando `break`."
   ]
  },
  {
   "cell_type": "code",
   "execution_count": 5,
   "metadata": {},
   "outputs": [
    {
     "name": "stdout",
     "output_type": "stream",
     "text": [
      "0\n"
     ]
    }
   ],
   "source": [
    "x = 0\n",
    "while x < 10:\n",
    "    print(x)\n",
    "    x += 1\n",
    "    break"
   ]
  },
  {
   "cell_type": "markdown",
   "metadata": {},
   "source": [
    "Podemos também retornar para a condição e ignorar o restante do código com `continue`."
   ]
  },
  {
   "cell_type": "code",
   "execution_count": 6,
   "metadata": {},
   "outputs": [
    {
     "name": "stdout",
     "output_type": "stream",
     "text": [
      "Valor final:  10\n"
     ]
    }
   ],
   "source": [
    "x = 0\n",
    "while x < 10:\n",
    "    x += 1\n",
    "    continue\n",
    "    print(x)\n",
    "print('Valor final: ', x)"
   ]
  },
  {
   "cell_type": "markdown",
   "metadata": {},
   "source": [
    "Python também permite utilizar `else` junto ao laço. Para o caso do `while`, será executado apenas quando a condição se tornar **falsa**. Sendo assim, um `break` não irá executar o código contido no bloco do `else`."
   ]
  },
  {
   "cell_type": "code",
   "execution_count": 7,
   "metadata": {},
   "outputs": [
    {
     "name": "stdout",
     "output_type": "stream",
     "text": [
      "2\n",
      "4\n",
      "6\n",
      "X é maior ou igual que 5\n"
     ]
    }
   ],
   "source": [
    "x = 0\n",
    "while x < 5:\n",
    "    x += 2\n",
    "    print(x)\n",
    "else:\n",
    "    print('X é maior ou igual que 5')"
   ]
  },
  {
   "cell_type": "code",
   "execution_count": 8,
   "metadata": {},
   "outputs": [
    {
     "name": "stdout",
     "output_type": "stream",
     "text": [
      "2\n"
     ]
    }
   ],
   "source": [
    "x = 0\n",
    "while x < 5:\n",
    "    x += 2\n",
    "    print(x)\n",
    "    break\n",
    "else:\n",
    "    print('X é maior ou igual que 5')"
   ]
  },
  {
   "cell_type": "markdown",
   "metadata": {},
   "source": [
    "---\n",
    "### for\n",
    "Uma das repetições mais utilizadas para iterar os valores em uma lista ou outra sequência."
   ]
  },
  {
   "cell_type": "code",
   "execution_count": 9,
   "metadata": {},
   "outputs": [
    {
     "name": "stdout",
     "output_type": "stream",
     "text": [
      "42\n",
      "25\n",
      "Ex\n",
      "3.14\n",
      "?\n",
      "['.', '.', '.']\n"
     ]
    }
   ],
   "source": [
    "lista = [42, 25, 'Ex', 3.14, '?', ['.', '.', '.']]\n",
    "for item in lista:\n",
    "    print(item)"
   ]
  },
  {
   "cell_type": "markdown",
   "metadata": {},
   "source": [
    "💡 Note que foi utilizado `in`, que permite essa iteração. `in` também pode ser utilizado para condições:"
   ]
  },
  {
   "cell_type": "code",
   "execution_count": 10,
   "metadata": {},
   "outputs": [
    {
     "name": "stdout",
     "output_type": "stream",
     "text": [
      "Buscando  42\n",
      "Valor foi encontrado na lista\n"
     ]
    }
   ],
   "source": [
    "busca = 42\n",
    "print('Buscando ', busca)\n",
    "if busca in lista:\n",
    "    print('Valor foi encontrado na lista')\n",
    "else:\n",
    "    print('Valor não foi encontrado na lista')"
   ]
  },
  {
   "cell_type": "markdown",
   "metadata": {},
   "source": [
    "A função `range` para gerar números. É necessário ao menos um parâmetro, o número final. **Note que o valor que determina o fim não está incluso!**"
   ]
  },
  {
   "cell_type": "code",
   "execution_count": 11,
   "metadata": {},
   "outputs": [
    {
     "name": "stdout",
     "output_type": "stream",
     "text": [
      "0\n",
      "1\n",
      "2\n",
      "3\n",
      "4\n",
      "5\n",
      "6\n",
      "7\n",
      "8\n",
      "9\n"
     ]
    }
   ],
   "source": [
    "for x in range(10):\n",
    "    print(x)"
   ]
  },
  {
   "cell_type": "markdown",
   "metadata": {},
   "source": [
    "É possível determinar também um valor inicial:"
   ]
  },
  {
   "cell_type": "code",
   "execution_count": 12,
   "metadata": {},
   "outputs": [
    {
     "name": "stdout",
     "output_type": "stream",
     "text": [
      "5\n",
      "6\n",
      "7\n",
      "8\n",
      "9\n"
     ]
    }
   ],
   "source": [
    "for x in range(5, 10):\n",
    "    print(x)"
   ]
  },
  {
   "cell_type": "markdown",
   "metadata": {},
   "source": [
    "E também um incremento:"
   ]
  },
  {
   "cell_type": "code",
   "execution_count": 13,
   "metadata": {},
   "outputs": [
    {
     "name": "stdout",
     "output_type": "stream",
     "text": [
      "0\n",
      "2\n",
      "4\n",
      "6\n",
      "8\n",
      "10\n",
      "12\n",
      "14\n",
      "16\n",
      "18\n"
     ]
    }
   ],
   "source": [
    "for x in range(0, 20, 2):\n",
    "    print(x)"
   ]
  },
  {
   "cell_type": "markdown",
   "metadata": {},
   "source": [
    "Outra função extremamente útil é o `enumerate`, que permite associar cada valor de uma sequência com seu respectivo índice."
   ]
  },
  {
   "cell_type": "code",
   "execution_count": 14,
   "metadata": {},
   "outputs": [
    {
     "name": "stdout",
     "output_type": "stream",
     "text": [
      "0 : 42\n",
      "1 : 25\n",
      "2 : Ex\n",
      "3 : 3.14\n",
      "4 : ?\n",
      "5 : ['.', '.', '.']\n"
     ]
    }
   ],
   "source": [
    "lista = [42, 25, 'Ex', 3.14, '?', ['.', '.', '.']]\n",
    "for indice, valor in enumerate(lista):\n",
    "    print(indice,':', valor)"
   ]
  },
  {
   "cell_type": "markdown",
   "metadata": {},
   "source": [
    "📙 Para mais informações, consulte as documentações para [range](https://docs.python.org/3/library/functions.html#func-range) e [enumerate](https://docs.python.org/3/library/functions.html#enumerate)."
   ]
  }
 ],
 "metadata": {
  "kernelspec": {
   "display_name": "Python 3",
   "language": "python",
   "name": "python3"
  },
  "language_info": {
   "codemirror_mode": {
    "name": "ipython",
    "version": 3
   },
   "file_extension": ".py",
   "mimetype": "text/x-python",
   "name": "python",
   "nbconvert_exporter": "python",
   "pygments_lexer": "ipython3",
   "version": "3.6.9"
  }
 },
 "nbformat": 4,
 "nbformat_minor": 4
}
