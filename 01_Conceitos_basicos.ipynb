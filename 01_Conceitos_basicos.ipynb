{
 "cells": [
  {
   "cell_type": "markdown",
   "metadata": {},
   "source": [
    "# Explora - Python\n",
    "## Conceitos básicos\n",
    "<hr>\n",
    "Neste tópico, vamos abordar os conceitos básicos em Python, para você que ainda não conhece programação, ou então só está querendo revisar!\n"
   ]
  },
  {
   "cell_type": "markdown",
   "metadata": {},
   "source": [
    "# ![Python logo](python-logo.png)<br>\n",
    "\n",
    "Python é uma linguagem de programação usada em diversas áreas: programação para a web, ciência de dados, inteligência artificial, entre outros. Neste curso, abordaremos  como usá-la para criar animações matemáticas usando a biblioteca manim.\n",
    "Primeiramente, criaremos o primeiro programa de todo programador, o **Hello World**!\n"
   ]
  },
  {
   "cell_type": "code",
   "execution_count": null,
   "metadata": {},
   "outputs": [],
   "source": [
    "print('Hello World!')"
   ]
  },
  {
   "cell_type": "markdown",
   "metadata": {},
   "source": [
    "💡 Dica: Para executar as células, utilize `Shift` + `Enter`"
   ]
  },
  {
   "cell_type": "markdown",
   "metadata": {},
   "source": [
    "Esse simples trecho é muito utilizado para verificar se uma linguagem de programação está funcionando, mas, não faz muita coisa. Para começarmos a criar coisas mais interessantes, aprenderemos o conceito de **variáveis**. Uma variável é um lugar na memória onde podemos guardar dados. Por exemplo podemos guardar um número, uma palavra, entre outras coisas."
   ]
  },
  {
   "cell_type": "code",
   "execution_count": 12,
   "metadata": {},
   "outputs": [
    {
     "name": "stdout",
     "output_type": "stream",
     "text": [
      "Explora\n",
      "42\n"
     ]
    }
   ],
   "source": [
    "nome = 'Explora'\n",
    "valor = 42\n",
    "print(nome)\n",
    "print(valor)"
   ]
  },
  {
   "cell_type": "markdown",
   "metadata": {},
   "source": [
    "Note que palavras precisam ser colocadas entre aspas. Para Python, não importa se você utilizar aspas simples ou duplas. Para números isso não é necessário!\n",
    "Se você já conhece programação, deve ter notado que não é preciso nenhuma palavra especial para declarar variáveis, ou então, de atribuir um **tipo**. \n",
    "Ainda assim, existem algumas restrições para nomes de variáveis:\n",
    "- Devem começar com uma letra ou *underline* (_)\n",
    "- Não podem iniciar com números\n",
    "- Python diferencia letras maiúsculas e minúsculas"
   ]
  },
  {
   "cell_type": "markdown",
   "metadata": {},
   "source": [
    "💡 Dica: Para dar o nome a uma variável com mais de uma palavra, separe elas por underline"
   ]
  },
  {
   "cell_type": "code",
   "execution_count": null,
   "metadata": {},
   "outputs": [],
   "source": [
    "letra_e_numero = \"a 2\""
   ]
  },
  {
   "cell_type": "markdown",
   "metadata": {},
   "source": [
    "Python permite que você altere facilmente o tipo de uma variável, bastando atribuir o novo valor. Veja no exemplo abaixo, que ao atribuir `nome` para a variável `valor`, não foi preciso realizar nenhum outro tipo de conversão."
   ]
  },
  {
   "cell_type": "code",
   "execution_count": 13,
   "metadata": {},
   "outputs": [
    {
     "name": "stdout",
     "output_type": "stream",
     "text": [
      "3.14159\n",
      "Explora\n"
     ]
    }
   ],
   "source": [
    "nome = 'Explora'\n",
    "valor = nome\n",
    "nome = 3.14159\n",
    "print(nome)\n",
    "print(valor)"
   ]
  },
  {
   "cell_type": "markdown",
   "metadata": {},
   "source": [
    "## Tipos de dados\n",
    "Como explicamos anteriormente, não é preciso definir explicitamente o tipo de cada variável (se elas são números inteiros ou reais, se elas são caracteres ou palavras etc). Entretanto, algumas operações só podem ser realizadas com certos tipos. \n",
    "Os tipos mais fundamentais em qualquer linguagem de programação, inclusive no python são: \n",
    "- int: números inteiros\n",
    "- float: números reais\n",
    "- str: texto\n",
    "- bool: booleano (verdadeiro ou falso)\n",
    "- complex: números complexos\n",
    "\n",
    "Para ver o tipo de uma variável, utilize `type(nome_da_variavel)`\n",
    "\n",
    "📙 Para mais informações, consulte a [documentação oficial](https://docs.python.org/3.8/reference/datamodel.html#objects-values-and-types) (não se assuste)."
   ]
  },
  {
   "cell_type": "code",
   "execution_count": 11,
   "metadata": {},
   "outputs": [
    {
     "name": "stdout",
     "output_type": "stream",
     "text": [
      "<class 'str'>\n"
     ]
    }
   ],
   "source": [
    "inteiro = 2\n",
    "real = 3.14159265358979\n",
    "texto = 'Olá!'\n",
    "verdade = True\n",
    "falso = False\n",
    "complexo = 2 + 3j\n",
    "\n",
    "print(type(texto))"
   ]
  },
  {
   "cell_type": "markdown",
   "metadata": {},
   "source": [
    "## Operadores aritméticos\n"
   ]
  },
  {
   "cell_type": "code",
   "execution_count": null,
   "metadata": {},
   "outputs": [],
   "source": []
  }
 ],
 "metadata": {
  "kernelspec": {
   "display_name": "Python 3",
   "language": "python",
   "name": "python3"
  },
  "language_info": {
   "codemirror_mode": {
    "name": "ipython",
    "version": 3
   },
   "file_extension": ".py",
   "mimetype": "text/x-python",
   "name": "python",
   "nbconvert_exporter": "python",
   "pygments_lexer": "ipython3",
   "version": "3.7.6"
  }
 },
 "nbformat": 4,
 "nbformat_minor": 2
}
