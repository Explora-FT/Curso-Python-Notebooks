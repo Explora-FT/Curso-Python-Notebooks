{
 "cells": [
  {
   "cell_type": "markdown",
   "metadata": {},
   "source": [
    "# Explora - Python\n",
    "## Programação orientada a objetos\n",
    "---\n",
    "A orientação a objetos (OO) busca representar o mundo real de uma melhor forma, através do código. Este é um assunto importante, uma vez que animções em Manim são feitas utilizando OO.\n",
    "\n",
    "Podemos pensar em objetos como variáveis, onde seu tipo é uma **classe**.\n",
    "\n",
    "📙 Para aqueles que já dominam o assunto, recomendo o livro [Aprendendo Padões de Projeto em Python](https://novatec.com.br/livros/padroes-projeto-python/), um assunto que não é abordado neste curso, mas auxilia no desenvolvimento de melhores códigos"
   ]
  },
  {
   "cell_type": "markdown",
   "metadata": {},
   "source": [
    "## Classe\n",
    "Representa uma entidade, contendo **atributos** e **métodos**. Atributos são dados associados a classe, enquanto métodos descrevem os comportamentos desta classe."
   ]
  },
  {
   "cell_type": "code",
   "execution_count": 1,
   "metadata": {},
   "outputs": [],
   "source": [
    "class Televisao:\n",
    "    # Atributos\n",
    "    marca = 'Samsung'\n",
    "    volume_atual = 15\n",
    "    canal_atual = 3\n",
    "    \n",
    "    # Método\n",
    "    def aumentar_volume(self):\n",
    "        self.volume_atual += 1"
   ]
  },
  {
   "cell_type": "code",
   "execution_count": 2,
   "metadata": {},
   "outputs": [
    {
     "name": "stdout",
     "output_type": "stream",
     "text": [
      "Marca: Samsung\n",
      "Volume: 15\n",
      "Volume: 16\n"
     ]
    }
   ],
   "source": [
    "tv = Televisao()\n",
    "print('Marca:', tv.marca)\n",
    "print('Volume:', tv.volume_atual)\n",
    "\n",
    "tv.aumentar_volume()\n",
    "print('Volume:', tv.volume_atual)"
   ]
  },
  {
   "cell_type": "markdown",
   "metadata": {},
   "source": [
    "Declarar um método é semelhante a uma função, com a diferença que o primeiro atributo sempre deve ser `self`. Desta forma é possível acessar os atributos pertencentes ao objeto."
   ]
  },
  {
   "cell_type": "markdown",
   "metadata": {},
   "source": [
    "Atualmente, todos objetos criados possuem os mesmos atributos inicialmente. Para mudar isso, vamos utilizar um **construtor**, representado em Python por `__init__()`. Podemos neste construtor, passar parâmetros que serão associados ao objeto.\n",
    "\n",
    "Cada objeto criado terá seus valores independentes."
   ]
  },
  {
   "cell_type": "code",
   "execution_count": 3,
   "metadata": {},
   "outputs": [],
   "source": [
    "class Televisao:\n",
    "    # Atributos\n",
    "    volume_atual = 15\n",
    "    canal_atual = 3\n",
    "    \n",
    "    def __init__(self, marca, numero_serie):\n",
    "        self.marca = marca\n",
    "        self.numero_serie = numero_serie\n",
    "    \n",
    "    # Método\n",
    "    def aumentar_volume(self):\n",
    "        self.volume_atual += 1\n",
    "    \n",
    "    def exibir_informacoes(self):\n",
    "        print('Marca:', self.marca)\n",
    "        print('Número de série:', self.numero_serie)"
   ]
  },
  {
   "cell_type": "code",
   "execution_count": 4,
   "metadata": {},
   "outputs": [
    {
     "name": "stdout",
     "output_type": "stream",
     "text": [
      "Volume TV 1: 16\n",
      "Volume TV 2: 15\n",
      "\n",
      "Marca: Samsung\n",
      "Número de série: SN10\n",
      "---------------------\n",
      "Marca: Sony\n",
      "Número de série: SN11\n"
     ]
    }
   ],
   "source": [
    "tv1 = Televisao('Samsung', 'SN10')\n",
    "tv2 = Televisao('Sony', 'SN11')\n",
    "\n",
    "tv1.aumentar_volume()\n",
    "print('Volume TV 1:', tv1.volume_atual)\n",
    "print('Volume TV 2:', tv2.volume_atual)\n",
    "print()\n",
    "\n",
    "tv1.exibir_informacoes()\n",
    "print('-'*21)\n",
    "tv2.exibir_informacoes()"
   ]
  },
  {
   "cell_type": "code",
   "execution_count": null,
   "metadata": {},
   "outputs": [],
   "source": [
    "# WIP"
   ]
  }
 ],
 "metadata": {
  "kernelspec": {
   "display_name": "Python 3",
   "language": "python",
   "name": "python3"
  },
  "language_info": {
   "codemirror_mode": {
    "name": "ipython",
    "version": 3
   },
   "file_extension": ".py",
   "mimetype": "text/x-python",
   "name": "python",
   "nbconvert_exporter": "python",
   "pygments_lexer": "ipython3",
   "version": "3.6.9"
  }
 },
 "nbformat": 4,
 "nbformat_minor": 4
}
