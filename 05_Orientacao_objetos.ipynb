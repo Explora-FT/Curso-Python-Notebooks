{
 "cells": [
  {
   "cell_type": "markdown",
   "metadata": {},
   "source": [
    "# Explora - Python\n",
    "## Programação orientada a objetos\n",
    "---\n",
    "A orientação a objetos (OO) busca representar o mundo real de uma melhor forma, através do código. Este é um assunto importante, uma vez que animções em Manim são feitas utilizando OO.\n",
    "\n",
    "Podemos pensar em objetos como variáveis, onde seu tipo é uma **classe**.\n",
    "\n",
    "📙 Para aqueles que já dominam o assunto, recomendo o livro [Aprendendo Padões de Projeto em Python](https://novatec.com.br/livros/padroes-projeto-python/), um assunto que não é abordado neste curso, mas auxilia no desenvolvimento de melhores códigos"
   ]
  },
  {
   "cell_type": "markdown",
   "metadata": {},
   "source": [
    "## Classe\n",
    "Representa uma entidade, contendo **atributos** e **métodos**. Atributos são dados associados a classe, enquanto métodos descrevem os comportamentos desta classe. Confira mais na [documentação](https://docs.python.org/pt-br/3.8/tutorial/classes.html)."
   ]
  },
  {
   "cell_type": "code",
   "execution_count": 1,
   "metadata": {},
   "outputs": [],
   "source": [
    "class Televisao:\n",
    "    # Atributos\n",
    "    marca = 'Samsung'\n",
    "    volume_atual = 15\n",
    "    canal_atual = 3\n",
    "    \n",
    "    # Método\n",
    "    def aumentar_volume(self):\n",
    "        self.volume_atual += 1"
   ]
  },
  {
   "cell_type": "code",
   "execution_count": 2,
   "metadata": {},
   "outputs": [
    {
     "name": "stdout",
     "output_type": "stream",
     "text": [
      "Marca: Samsung\n",
      "Volume: 15\n",
      "Volume: 16\n"
     ]
    }
   ],
   "source": [
    "tv = Televisao()\n",
    "print('Marca:', tv.marca)\n",
    "print('Volume:', tv.volume_atual)\n",
    "\n",
    "tv.aumentar_volume()\n",
    "print('Volume:', tv.volume_atual)"
   ]
  },
  {
   "cell_type": "markdown",
   "metadata": {},
   "source": [
    "Declarar um método é semelhante a uma função, com a diferença que o primeiro atributo sempre deve ser `self`. Desta forma é possível acessar os atributos pertencentes ao objeto."
   ]
  },
  {
   "cell_type": "markdown",
   "metadata": {},
   "source": [
    "Atualmente, todos objetos criados possuem os mesmos atributos inicialmente. Para mudar isso, vamos utilizar um **construtor**, representado em Python por `__init__()`. Podemos neste construtor, passar parâmetros que serão associados ao objeto.\n",
    "\n",
    "Cada objeto criado terá seus valores independentes."
   ]
  },
  {
   "cell_type": "code",
   "execution_count": 3,
   "metadata": {},
   "outputs": [],
   "source": [
    "class Televisao:\n",
    "    # Atributos\n",
    "    volume_atual = 15\n",
    "    canal_atual = 3\n",
    "    \n",
    "    def __init__(self, marca, numero_serie):\n",
    "        self.marca = marca\n",
    "        self.numero_serie = numero_serie\n",
    "    \n",
    "    # Método\n",
    "    def aumentar_volume(self):\n",
    "        self.volume_atual += 1\n",
    "    \n",
    "    def exibir_informacoes(self):\n",
    "        print('Marca:', self.marca)\n",
    "        print('Número de série:', self.numero_serie)"
   ]
  },
  {
   "cell_type": "code",
   "execution_count": 4,
   "metadata": {},
   "outputs": [
    {
     "name": "stdout",
     "output_type": "stream",
     "text": [
      "Volume TV 1: 16\n",
      "Volume TV 2: 15\n",
      "\n",
      "Marca: Samsung\n",
      "Número de série: SN10\n",
      "---------------------\n",
      "Marca: Sony\n",
      "Número de série: SN11\n"
     ]
    }
   ],
   "source": [
    "tv1 = Televisao('Samsung', 'SN10')\n",
    "tv2 = Televisao('Sony', 'SN11')\n",
    "\n",
    "tv1.aumentar_volume()\n",
    "print('Volume TV 1:', tv1.volume_atual)\n",
    "print('Volume TV 2:', tv2.volume_atual)\n",
    "print()\n",
    "\n",
    "tv1.exibir_informacoes()\n",
    "print('-'*21)\n",
    "tv2.exibir_informacoes()"
   ]
  },
  {
   "cell_type": "markdown",
   "metadata": {},
   "source": [
    "## Herança\n",
    "A herança permite criar novas classes, reutilizando funcionalidades de sua classe pai, que deve ser especificada dentro de parênteses. Mais informações na [documentação](https://docs.python.org/pt-br/3.8/tutorial/classes.html#inheritance)."
   ]
  },
  {
   "cell_type": "code",
   "execution_count": 5,
   "metadata": {},
   "outputs": [],
   "source": [
    "class Automovel:\n",
    "    \n",
    "    def __init__(self, marca, ano):\n",
    "        self.velocidade = 0\n",
    "        self.marca = marca\n",
    "        self.ano = ano\n",
    "    \n",
    "    def acelerar(self):\n",
    "        self.velocidade += 1\n",
    "        \n",
    "    def freiar(self):\n",
    "        if self.velocidade > 0:\n",
    "            self.velocidade -= 1\n",
    "        else:\n",
    "            print('Parado!')\n",
    "           \n",
    "        \n",
    "class Carro_combustao(Automovel):\n",
    "    \n",
    "    def __init__(self, marca, ano, tipo_combustivel, numero_marchas):\n",
    "        super().__init__(marca, ano)\n",
    "        self.combustivel_atual = 0\n",
    "        self.tipo_combustivel = tipo_combustivel\n",
    "        self.numero_marchas = numero_marchas\n",
    "        \n",
    "    def reabastecer(self, quantidade_reabastecer):\n",
    "        self.combustivel_atual += quantidade_reabastecer\n",
    "        print('Combustivel atual:', self.combustivel_atual)\n",
    "\n",
    "\n",
    "class Carro_eletrico(Automovel):\n",
    "    \n",
    "    def __init__(self, marca, ano, autonomia_bateria, modelo_carregador):\n",
    "        super().__init__(marca, ano)\n",
    "        self.autonomia_bateria = autonomia_bateria\n",
    "        self.modelo_carregador = modelo_carregador\n",
    "    "
   ]
  },
  {
   "cell_type": "markdown",
   "metadata": {},
   "source": [
    "Criamos uma classe que será usada como base: `Automovel`. Em seguida, foram declaradas outras duas classes, herdando `Automovel`. Desta forma, tanto `Carro_combustao` quanto `Carro_eletrico` possuem os mesmos atributos e métodos da classe pai."
   ]
  },
  {
   "cell_type": "code",
   "execution_count": 6,
   "metadata": {},
   "outputs": [
    {
     "name": "stdout",
     "output_type": "stream",
     "text": [
      "Combustivel atual: 100\n",
      "Velocidade: 50\n",
      "\n",
      "Marca: Tesla\n",
      "Marca: 628\n"
     ]
    }
   ],
   "source": [
    "onix = Carro_combustao('Chevrolet', 2021, 'Gasolina', 6)\n",
    "onix.reabastecer(100)\n",
    "for _ in range(50):\n",
    "    onix.acelerar() # Note que acelerar não foi definido em Carro_combustao, mas está disponível pela herança\n",
    "print('Velocidade:', onix.velocidade)\n",
    "print()\n",
    "\n",
    "model_S = Carro_eletrico('Tesla', 2021, 628, 'Tesla US')\n",
    "print('Marca:', model_S.marca)\n",
    "print('Marca:', model_S.autonomia_bateria)"
   ]
  },
  {
   "cell_type": "markdown",
   "metadata": {},
   "source": [
    "Note que é importante fazer a chamada do construtor da classe pai. Utilizando `super().__init__(marca, ano)` garantimos todos os atributos de `Automovel` nas classes filhas. Também é possivel utilizar explicitamente o nome da classe pai, sendo necessário `self` como primeiro agrumento: `Automovel.__init__(self, marca, ano)`"
   ]
  },
  {
   "cell_type": "markdown",
   "metadata": {},
   "source": [
    "📙 Consulte também: [Python - Object Oriented](https://www.tutorialspoint.com/python/python_classes_objects.htm)."
   ]
  }
 ],
 "metadata": {
  "kernelspec": {
   "display_name": "Python 3",
   "language": "python",
   "name": "python3"
  },
  "language_info": {
   "codemirror_mode": {
    "name": "ipython",
    "version": 3
   },
   "file_extension": ".py",
   "mimetype": "text/x-python",
   "name": "python",
   "nbconvert_exporter": "python",
   "pygments_lexer": "ipython3",
   "version": "3.6.9"
  }
 },
 "nbformat": 4,
 "nbformat_minor": 4
}
