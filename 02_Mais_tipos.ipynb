{
 "cells": [
  {
   "cell_type": "markdown",
   "metadata": {},
   "source": [
    "# Explora - Python\n",
    "## Outros tipos\n",
    "<\n",
    "Agora vamos explorar alguns tipos mais interessantes e novas possibilidades. Vamos aprender sobre **listas**, **tuplas** e **dicionários**."
   ]
  },
  {
   "cell_type": "markdown",
   "metadata": {},
   "source": [
    "### Listas\n",
    "Podemos adicionar diversos valores em apenas uma variável, que são armazenados de forma ordenada, podendo ser acessados por meio de **índices**.\n",
    "<div>\n",
    "    <img src=\"lista.png\" alt=\"Imagem ilustrando uma lista e suas posições\" width=\"450\"/>\n",
    "</div>"
   ]
  },
  {
   "cell_type": "markdown",
   "metadata": {},
   "source": [
    "Dento de listas, podemos armazenar qualquer coisa, seja números, texto ou até mesmo, outras listas. Os **índices** indicam a posição de cada valor, começando em **0**. Uma facilidade em Python, é que podemos utilizar **índices negativos** para acessar as últimas posições de uma lista."
   ]
  },
  {
   "cell_type": "markdown",
   "metadata": {},
   "source": [
    "Para criar uma lista, utilizamos a notação de colchetes, ou por meio de `list()`."
   ]
  },
  {
   "cell_type": "code",
   "execution_count": 10,
   "metadata": {},
   "outputs": [],
   "source": [
    "lista = []\n",
    "outra_lista = list()"
   ]
  },
  {
   "cell_type": "markdown",
   "metadata": {},
   "source": [
    "Vamos agora recriar o exemplo da imagem anterior e entender melhor os índices!"
   ]
  },
  {
   "cell_type": "code",
   "execution_count": 11,
   "metadata": {},
   "outputs": [
    {
     "name": "stdout",
     "output_type": "stream",
     "text": [
      "Lista inteira:  [42, 25, 'Ex', 3.14, '?', ['.', '.', '.']]\n",
      "Primeiro item:  42\n",
      "Último item:  ['.', '.', '.']\n",
      "Lista dentro da lista:  .\n"
     ]
    }
   ],
   "source": [
    "exemplo = [42, 25, 'Ex', 3.14, '?', ['.', '.', '.']]\n",
    "\n",
    "print('Lista inteira: ', exemplo)\n",
    "print('Primeiro item: ', exemplo[0])\n",
    "print('Último item: ', exemplo[-1])\n",
    "print('Lista dentro da lista: ', exemplo[5][0])"
   ]
  },
  {
   "cell_type": "markdown",
   "metadata": {},
   "source": [
    "Note que utilizamos colchetes para declarar nossa lista, que foi armazenada em 'exemplo'. Com isso, podemos utilizar o nome da variável, seguido do índice desejado, dentro de colchetes.\n",
    "Como explicamos, para acessar a primeira posição, devemos utilizar o índice 0: `exemplo[0]`.\n",
    "\n",
    "Ao acessar uma lista dentro de outra, devemos adicionar outro colchete com o índice desejado."
   ]
  },
  {
   "cell_type": "markdown",
   "metadata": {},
   "source": [
    "Vamos agora adicionar novos elementos a lista por meio de três métodos: `append`, `extend` e `insert`. <br>\n",
    "Com `append`, podemos inserir elementos no fim da lista:"
   ]
  },
  {
   "cell_type": "code",
   "execution_count": 12,
   "metadata": {},
   "outputs": [
    {
     "name": "stdout",
     "output_type": "stream",
     "text": [
      "Lista inicial:  [1, 2, 3]\n",
      "Lista final:  [1, 2, 3, 4]\n"
     ]
    }
   ],
   "source": [
    "lista = [1, 2, 3]\n",
    "\n",
    "print('Lista inicial: ', lista)\n",
    "lista.append(4)\n",
    "print('Lista final: ', lista)"
   ]
  },
  {
   "cell_type": "markdown",
   "metadata": {},
   "source": [
    "Já o `extend` permite inserir todos os elementos de outra lista em outra:"
   ]
  },
  {
   "cell_type": "code",
   "execution_count": 13,
   "metadata": {},
   "outputs": [
    {
     "name": "stdout",
     "output_type": "stream",
     "text": [
      "Lista inicial:  [1, 2, 3]\n",
      "Lista final:  [1, 2, 3, 4, 5]\n"
     ]
    }
   ],
   "source": [
    "lista = [1, 2, 3]\n",
    "outra_lista = [4, 5]\n",
    "\n",
    "print('Lista inicial: ', lista)\n",
    "lista.extend(outra_lista)\n",
    "print('Lista final: ', lista)"
   ]
  },
  {
   "cell_type": "markdown",
   "metadata": {},
   "source": [
    "Ao utilizar `append` no lugar, estaríamos colocando `outra_lista` como um elemento de `lista`"
   ]
  },
  {
   "cell_type": "code",
   "execution_count": 14,
   "metadata": {},
   "outputs": [
    {
     "name": "stdout",
     "output_type": "stream",
     "text": [
      "Lista inicial:  [1, 2, 3]\n",
      "Lista final:  [1, 2, 3, [4, 5]]\n"
     ]
    }
   ],
   "source": [
    "lista = [1, 2, 3]\n",
    "outra_lista = [4, 5]\n",
    "\n",
    "print('Lista inicial: ', lista)\n",
    "lista.append(outra_lista)\n",
    "print('Lista final: ', lista)"
   ]
  },
  {
   "cell_type": "markdown",
   "metadata": {},
   "source": [
    "💡 Dica: também podemos utilizar o sinal `+` no lugar de `extend` para obter o mesmo resultado. **Teste isso**!"
   ]
  },
  {
   "cell_type": "markdown",
   "metadata": {},
   "source": [
    "`insert` permite colocar um novo elemento em um índice específico, deslocando todos os outros:"
   ]
  },
  {
   "cell_type": "code",
   "execution_count": 15,
   "metadata": {},
   "outputs": [
    {
     "name": "stdout",
     "output_type": "stream",
     "text": [
      "Lista inicial:  [1, 3, 4]\n",
      "Lista final:  [1, 2, 3, 4]\n"
     ]
    }
   ],
   "source": [
    "lista = [1, 3, 4]\n",
    "\n",
    "print('Lista inicial: ', lista)\n",
    "lista.insert(1, 2)\n",
    "print('Lista final: ', lista)"
   ]
  },
  {
   "cell_type": "markdown",
   "metadata": {},
   "source": [
    "Note que precisamos passar dois valores para `insert`, sendo o primeiro o índice que desejamos inserir um elemento e o segundo o elemento a ser inserido. <br>\n",
    "```\n",
    "lista.insert(indice_inserir, valor)\n",
    "```"
   ]
  },
  {
   "cell_type": "code",
   "execution_count": null,
   "metadata": {},
   "outputs": [],
   "source": []
  }
 ],
 "metadata": {
  "kernelspec": {
   "display_name": "Python 3",
   "language": "python",
   "name": "python3"
  },
  "language_info": {
   "codemirror_mode": {
    "name": "ipython",
    "version": 3
   },
   "file_extension": ".py",
   "mimetype": "text/x-python",
   "name": "python",
   "nbconvert_exporter": "python",
   "pygments_lexer": "ipython3",
   "version": "3.7.6"
  }
 },
 "nbformat": 4,
 "nbformat_minor": 4
}
