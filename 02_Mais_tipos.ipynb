{
 "cells": [
  {
   "cell_type": "markdown",
   "metadata": {},
   "source": [
    "# Explora - Python\n",
    "## Outros tipos\n",
    "---\n",
    "Agora vamos explorar alguns tipos mais interessantes e novas possibilidades. Vamos aprender sobre **listas**, **tuplas** e **dicionários**."
   ]
  },
  {
   "cell_type": "markdown",
   "metadata": {},
   "source": [
    "### Listas\n",
    "Podemos adicionar diversos valores em apenas uma variável, que são armazenados de forma ordenada, podendo ser acessados por meio de **índices**.\n",
    "<div>\n",
    "    <img src=\"lista.png\" alt=\"Imagem ilustrando uma lista e suas posições\" width=\"450\"/>\n",
    "</div>"
   ]
  },
  {
   "cell_type": "markdown",
   "metadata": {},
   "source": [
    "Dento de listas, podemos armazenar qualquer coisa, seja números, texto ou até mesmo, outras listas. Os **índices** indicam a posição de cada valor, começando em **0**. Uma facilidade em Python, é que podemos utilizar **índices negativos** para acessar as últimas posições de uma lista."
   ]
  },
  {
   "cell_type": "markdown",
   "metadata": {},
   "source": [
    "Para criar uma lista, utilizamos a notação de colchetes, ou por meio de `list()`."
   ]
  },
  {
   "cell_type": "code",
   "execution_count": 10,
   "metadata": {},
   "outputs": [],
   "source": [
    "lista = []\n",
    "outra_lista = list()"
   ]
  },
  {
   "cell_type": "markdown",
   "metadata": {},
   "source": [
    "Vamos agora recriar o exemplo da imagem anterior e entender melhor os índices!"
   ]
  },
  {
   "cell_type": "code",
   "execution_count": 11,
   "metadata": {},
   "outputs": [
    {
     "name": "stdout",
     "output_type": "stream",
     "text": [
      "Lista inteira:  [42, 25, 'Ex', 3.14, '?', ['.', '.', '.']]\n",
      "Primeiro item:  42\n",
      "Último item:  ['.', '.', '.']\n",
      "Lista dentro da lista:  .\n"
     ]
    }
   ],
   "source": [
    "exemplo = [42, 25, 'Ex', 3.14, '?', ['.', '.', '.']]\n",
    "\n",
    "print('Lista inteira: ', exemplo)\n",
    "print('Primeiro item: ', exemplo[0])\n",
    "print('Último item: ', exemplo[-1])\n",
    "print('Lista dentro da lista: ', exemplo[5][0])"
   ]
  },
  {
   "cell_type": "markdown",
   "metadata": {},
   "source": [
    "Note que utilizamos colchetes para declarar nossa lista, que foi armazenada em 'exemplo'. Com isso, podemos utilizar o nome da variável, seguido do índice desejado, dentro de colchetes.\n",
    "Como explicamos, para acessar a primeira posição, devemos utilizar o índice 0: `exemplo[0]`.\n",
    "\n",
    "Ao acessar uma lista dentro de outra, devemos adicionar outro colchete com o índice desejado."
   ]
  },
  {
   "cell_type": "markdown",
   "metadata": {},
   "source": [
    "Vamos agora adicionar novos elementos a lista por meio de três métodos: `append`, `extend` e `insert`. <br>\n",
    "Com `append`, podemos inserir elementos no fim da lista:"
   ]
  },
  {
   "cell_type": "code",
   "execution_count": 12,
   "metadata": {},
   "outputs": [
    {
     "name": "stdout",
     "output_type": "stream",
     "text": [
      "Lista inicial:  [1, 2, 3]\n",
      "Lista final:  [1, 2, 3, 4]\n"
     ]
    }
   ],
   "source": [
    "lista = [1, 2, 3]\n",
    "\n",
    "print('Lista inicial: ', lista)\n",
    "lista.append(4)\n",
    "print('Lista final: ', lista)"
   ]
  },
  {
   "cell_type": "markdown",
   "metadata": {},
   "source": [
    "Já o `extend` permite inserir todos os elementos de outra lista em outra:"
   ]
  },
  {
   "cell_type": "code",
   "execution_count": 13,
   "metadata": {},
   "outputs": [
    {
     "name": "stdout",
     "output_type": "stream",
     "text": [
      "Lista inicial:  [1, 2, 3]\n",
      "Lista final:  [1, 2, 3, 4, 5]\n"
     ]
    }
   ],
   "source": [
    "lista = [1, 2, 3]\n",
    "outra_lista = [4, 5]\n",
    "\n",
    "print('Lista inicial: ', lista)\n",
    "lista.extend(outra_lista)\n",
    "print('Lista final: ', lista)"
   ]
  },
  {
   "cell_type": "markdown",
   "metadata": {},
   "source": [
    "💡 Dica: também podemos utilizar o sinal `+` no lugar de `extend` para obter o mesmo resultado. **Teste isso**!"
   ]
  },
  {
   "cell_type": "markdown",
   "metadata": {},
   "source": [
    "Ao utilizar `append` no lugar, estaríamos colocando `outra_lista` como um elemento de `lista`"
   ]
  },
  {
   "cell_type": "code",
   "execution_count": 14,
   "metadata": {},
   "outputs": [
    {
     "name": "stdout",
     "output_type": "stream",
     "text": [
      "Lista inicial:  [1, 2, 3]\n",
      "Lista final:  [1, 2, 3, [4, 5]]\n"
     ]
    }
   ],
   "source": [
    "lista = [1, 2, 3]\n",
    "outra_lista = [4, 5]\n",
    "\n",
    "print('Lista inicial: ', lista)\n",
    "lista.append(outra_lista)\n",
    "print('Lista final: ', lista)"
   ]
  },
  {
   "cell_type": "markdown",
   "metadata": {},
   "source": [
    "`insert` permite colocar um novo elemento em um índice específico, deslocando todos os outros:"
   ]
  },
  {
   "cell_type": "code",
   "execution_count": 15,
   "metadata": {},
   "outputs": [
    {
     "name": "stdout",
     "output_type": "stream",
     "text": [
      "Lista inicial:  [1, 3, 4]\n",
      "Lista final:  [1, 2, 3, 4]\n"
     ]
    }
   ],
   "source": [
    "lista = [1, 3, 4]\n",
    "\n",
    "print('Lista inicial: ', lista)\n",
    "lista.insert(1, 2)\n",
    "print('Lista final: ', lista)"
   ]
  },
  {
   "cell_type": "markdown",
   "metadata": {},
   "source": [
    "Note que precisamos passar dois valores para `insert`, sendo o primeiro o índice que desejamos inserir um elemento e o segundo o elemento a ser inserido. <br>\n",
    "```\n",
    "lista.insert(indice_inserir, valor)\n",
    "```"
   ]
  },
  {
   "cell_type": "markdown",
   "metadata": {},
   "source": [
    "#### Listas Fatiadas\n",
    "Algumas vezes, queremos pegar um conjunto de valores dentro de uma lista. Para issos podemos fatiar uma lista. Fazemos isso com o sinal `:`"
   ]
  },
  {
   "cell_type": "code",
   "execution_count": 15,
   "metadata": {},
   "outputs": [
    {
     "name": "stdout",
     "output_type": "stream",
     "text": [
      "[2.71, 1j, 42]\n"
     ]
    }
   ],
   "source": [
    "lista = [3.14, 2.71, 0+1j, 42, 9.8, 3*10**8, 1.6]\n",
    "print(lista[1:4])"
   ]
  },
  {
   "cell_type": "code",
   "execution_count": null,
   "metadata": {},
   "outputs": [],
   "source": [
    "Podemos usar números negativos para "
   ]
  },
  {
   "cell_type": "markdown",
   "metadata": {},
   "source": [
    "A lista será fatiada desde o elemento de índice 1 até o elemento de índice 4-1. Há outras formas de fatiar uma lista. Podemos querer pegar os elementos da lista a partir de um índice até o final da lista. Fazemos isso omitindo o segundo valor do `:`"
   ]
  },
  {
   "cell_type": "code",
   "execution_count": 10,
   "metadata": {},
   "outputs": [
    {
     "name": "stdout",
     "output_type": "stream",
     "text": [
      "[9.8, 300000000, 1.6]\n",
      "[3.14, 2.71, 1j, 42]\n"
     ]
    }
   ],
   "source": [
    "print(lista[4:])\n",
    "print(lista[:4])"
   ]
  },
  {
   "cell_type": "markdown",
   "metadata": {},
   "source": [
    "No primeiro print acima, pegamos todos os valores a partir do elemento de índice 4. No segundo, pegamos todos os elementos até o índice 4. Também podemos pegar todos os elementos da lista omitindo dos dois lados."
   ]
  },
  {
   "cell_type": "code",
   "execution_count": 12,
   "metadata": {},
   "outputs": [
    {
     "name": "stdout",
     "output_type": "stream",
     "text": [
      "[3.14, 2.71, 1j, 42, 9.8, 300000000, 1.6]\n"
     ]
    }
   ],
   "source": [
    "print(lista[:])"
   ]
  },
  {
   "cell_type": "markdown",
   "metadata": {},
   "source": [
    "Também podemos pegar os elementos da lista em passos, por exemplo se quisermos pegar os elementos da lista de 2 em 2. Fazemos isso adicionando um `:`"
   ]
  },
  {
   "cell_type": "code",
   "execution_count": 14,
   "metadata": {},
   "outputs": [
    {
     "name": "stdout",
     "output_type": "stream",
     "text": [
      "[3.14, 1j, 9.8, 1.6]\n"
     ]
    }
   ],
   "source": [
    "print(lista[::2])"
   ]
  },
  {
   "cell_type": "markdown",
   "metadata": {},
   "source": [
    "<hr>"
   ]
  },
  {
   "cell_type": "markdown",
   "metadata": {},
   "source": [
    "### Dicionários\n",
    "Permite criar estuturas onde valores são associados e acessados através de chaves. Em listas, deviamos acessar um valor pela posição que ocupava, seu índice. Já nos dicionários podemos associar esse valor a qualquer outro dado, desde que esse chave utilizada seja **única**!\n",
    "<div>\n",
    "    <img src=\"dicionario.png\" alt=\"Imagem ilustrando um dicionário com suas chaves e valores\" width=\"450\"/>\n",
    "</div>"
   ]
  },
  {
   "cell_type": "markdown",
   "metadata": {},
   "source": [
    "📙 Consulte a [documentação oficial](https://docs.python.org/3.8/library/stdtypes.html#dict) para conhecer mais!"
   ]
  },
  {
   "cell_type": "markdown",
   "metadata": {},
   "source": [
    "Em Python, criamos esses dicionários utilizando chaves, como por exemplo `{1: 42}`. Neste caso, 1 será a **chave** e 42 o **valor associado**. Vamos colocar isso em prática:"
   ]
  },
  {
   "cell_type": "code",
   "execution_count": 2,
   "metadata": {},
   "outputs": [
    {
     "name": "stdout",
     "output_type": "stream",
     "text": [
      "{1: 42, 'texto': 'Manim', 'lista': [1, 2, 3.14]}\n"
     ]
    }
   ],
   "source": [
    "dicionario = {\n",
    "    1: 42,\n",
    "    'texto': 'Manim',\n",
    "    'lista': [1, 2, 3.14]\n",
    "}\n",
    "print(dicionario)"
   ]
  },
  {
   "cell_type": "markdown",
   "metadata": {},
   "source": [
    "Se tentarmos criar uma chave repetida, teremos um problema..."
   ]
  },
  {
   "cell_type": "code",
   "execution_count": 5,
   "metadata": {},
   "outputs": [
    {
     "name": "stdout",
     "output_type": "stream",
     "text": [
      "{1: 3.14, 'texto': 'Manim'}\n"
     ]
    }
   ],
   "source": [
    "erro = {\n",
    "    1: 42,\n",
    "    'texto': 'Manim',\n",
    "    1: 3.14\n",
    "}\n",
    "print(erro)"
   ]
  },
  {
   "cell_type": "markdown",
   "metadata": {},
   "source": [
    "Note que perdemos o primeiro valor associado a chave `1`."
   ]
  },
  {
   "cell_type": "markdown",
   "metadata": {},
   "source": [
    "Para consultar o valor associado a uma chave, utilizamos a segunte notação:"
   ]
  },
  {
   "cell_type": "code",
   "execution_count": 7,
   "metadata": {},
   "outputs": [
    {
     "name": "stdout",
     "output_type": "stream",
     "text": [
      "42\n",
      "[1, 2, 3.14]\n"
     ]
    }
   ],
   "source": [
    "print(dicionario[1])\n",
    "print(dicionario['lista'])"
   ]
  },
  {
   "cell_type": "markdown",
   "metadata": {},
   "source": [
    "Ao inserir uma nova entrada no dicionário, basta colocar uma nova chave e seu respectivo valor."
   ]
  },
  {
   "cell_type": "code",
   "execution_count": 10,
   "metadata": {},
   "outputs": [
    {
     "name": "stdout",
     "output_type": "stream",
     "text": [
      "{1: 1701, 'texto': 'Manim', 'lista': [1, 2, 3.14], 'starship': 'x-wing'}\n"
     ]
    }
   ],
   "source": [
    "dicionario['starship'] = 'x-wing'\n",
    "print(dicionario)"
   ]
  },
  {
   "cell_type": "markdown",
   "metadata": {},
   "source": [
    "Podemos alterar o valor de maneira semelhante, basta utilizar a chave e associar o novo valor."
   ]
  },
  {
   "cell_type": "code",
   "execution_count": 11,
   "metadata": {},
   "outputs": [
    {
     "name": "stdout",
     "output_type": "stream",
     "text": [
      "{1: 1701, 'texto': 'Manim', 'lista': [1, 2, 3.14], 'starship': 1701}\n"
     ]
    }
   ],
   "source": [
    "dicionario['starship'] = 1701\n",
    "print(dicionario)"
   ]
  },
  {
   "cell_type": "markdown",
   "metadata": {},
   "source": [
    "Para remover um valor, podemos utilizar `del`."
   ]
  },
  {
   "cell_type": "code",
   "execution_count": 21,
   "metadata": {},
   "outputs": [
    {
     "name": "stdout",
     "output_type": "stream",
     "text": [
      "{1: 1701, 'lista': [1, 2, 3.14], 'starship': 1701}\n"
     ]
    }
   ],
   "source": [
    "del dicionario['texto']\n",
    "print(dicionario)"
   ]
  },
  {
   "cell_type": "markdown",
   "metadata": {},
   "source": [
    "É possível extrair todas as chaves ou valores de um dicionário na forma de lista."
   ]
  },
  {
   "cell_type": "code",
   "execution_count": 17,
   "metadata": {},
   "outputs": [
    {
     "name": "stdout",
     "output_type": "stream",
     "text": [
      "Chaves:  [1, 'texto', 'lista', 'starship']\n",
      "Valores:  [1701, 'Manim', [1, 2, 3.14], 1701]\n"
     ]
    }
   ],
   "source": [
    "chaves = list(dicionario.keys())\n",
    "valores = list(dicionario.values())\n",
    "print('Chaves: ', chaves)\n",
    "print('Valores: ', valores)"
   ]
  },
  {
   "cell_type": "markdown",
   "metadata": {},
   "source": [
    "Se quiser manter agrupado cada chave com seu valor, utilize `items()`."
   ]
  },
  {
   "cell_type": "code",
   "execution_count": 20,
   "metadata": {},
   "outputs": [
    {
     "name": "stdout",
     "output_type": "stream",
     "text": [
      "[(1, 1701), ('texto', 'Manim'), ('lista', [1, 2, 3.14]), ('starship', 1701)]\n"
     ]
    }
   ],
   "source": [
    "itens = list(dicionario.items())\n",
    "print(itens)"
   ]
  },
  {
   "cell_type": "markdown",
   "metadata": {},
   "source": [
    "Cada chave está junto de seu valor dentro de uma **tupla**...<br>\n",
    "Espera... Mas o que é uma tupla??\n",
    "<hr>"
   ]
  },
  {
   "cell_type": "markdown",
   "metadata": {},
   "source": [
    "### Tuplas\n",
    "Tuplas são estruturas semelhantes a listas, porém, **imutáveis**. Sendo assim, são ideais para lidar com valores constantes. Ao invés de utilizar colchetes, vamos utilizar parênteses."
   ]
  },
  {
   "cell_type": "code",
   "execution_count": 34,
   "metadata": {},
   "outputs": [
    {
     "name": "stdout",
     "output_type": "stream",
     "text": [
      "(1, 3.14, 'Manim')\n"
     ]
    }
   ],
   "source": [
    "tupla = (1, 3.14, 'Manim')\n",
    "print(tupla)"
   ]
  },
  {
   "cell_type": "markdown",
   "metadata": {},
   "source": [
    "❌ Veja o que acontece se tentar alterar algum dos valores!"
   ]
  },
  {
   "cell_type": "code",
   "execution_count": 35,
   "metadata": {},
   "outputs": [
    {
     "ename": "TypeError",
     "evalue": "'tuple' object does not support item assignment",
     "output_type": "error",
     "traceback": [
      "\u001b[1;31m---------------------------------------------------------------------------\u001b[0m",
      "\u001b[1;31mTypeError\u001b[0m                                 Traceback (most recent call last)",
      "\u001b[1;32m<ipython-input-35-63912eb62050>\u001b[0m in \u001b[0;36m<module>\u001b[1;34m\u001b[0m\n\u001b[1;32m----> 1\u001b[1;33m \u001b[0mtupla\u001b[0m\u001b[1;33m[\u001b[0m\u001b[1;36m0\u001b[0m\u001b[1;33m]\u001b[0m \u001b[1;33m=\u001b[0m \u001b[1;36m2\u001b[0m\u001b[1;33m\u001b[0m\u001b[1;33m\u001b[0m\u001b[0m\n\u001b[0m",
      "\u001b[1;31mTypeError\u001b[0m: 'tuple' object does not support item assignment"
     ]
    }
   ],
   "source": [
    "tupla[0] = 2"
   ]
  },
  {
   "cell_type": "markdown",
   "metadata": {},
   "source": [
    "Acho que o Python não gostou muito disso..."
   ]
  },
  {
   "cell_type": "markdown",
   "metadata": {},
   "source": [
    "Para acessar os valores, utilizamos **índices**, assim como em listas."
   ]
  },
  {
   "cell_type": "code",
   "execution_count": 36,
   "metadata": {},
   "outputs": [
    {
     "name": "stdout",
     "output_type": "stream",
     "text": [
      "3.14\n",
      "Manim\n"
     ]
    }
   ],
   "source": [
    "print(tupla[1])\n",
    "print(tupla[-1])"
   ]
  },
  {
   "cell_type": "markdown",
   "metadata": {},
   "source": [
    "Se quisermos *adicionar* ou *remover* um valor a tupla, teremos que criar uma nova com os valores desejados."
   ]
  },
  {
   "cell_type": "code",
   "execution_count": 37,
   "metadata": {},
   "outputs": [
    {
     "name": "stdout",
     "output_type": "stream",
     "text": [
      "(1, 3.14, 'Manim', 42, [2.71, 74656])\n"
     ]
    }
   ],
   "source": [
    "tupla = tupla + (42, [2.71, 74656])\n",
    "print(tupla)"
   ]
  },
  {
   "cell_type": "code",
   "execution_count": null,
   "metadata": {},
   "outputs": [],
   "source": []
  }
 ],
 "metadata": {
  "kernelspec": {
   "display_name": "Python 3",
   "language": "python",
   "name": "python3"
  },
  "language_info": {
   "codemirror_mode": {
    "name": "ipython",
    "version": 3
   },
   "file_extension": ".py",
   "mimetype": "text/x-python",
   "name": "python",
   "nbconvert_exporter": "python",
   "pygments_lexer": "ipython3",
   "version": "3.7.6"
  }
 },
 "nbformat": 4,
 "nbformat_minor": 4
}
