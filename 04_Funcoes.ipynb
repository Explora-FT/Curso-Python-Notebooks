{
 "cells": [
  {
   "cell_type": "markdown",
   "metadata": {},
   "source": [
    "# Explora - Python\n",
    "## Funções\n",
    "Nas estruturas de controle, vimos como tomar decisões, desviar ou repetir partes do código. Agora vamos aprender a como criar funções, que são trechos de código que podem ser **reutilizados** em várias partes do código. Na verdade, já vimos uma função nos conceitos básicos, o **print**. A biblioteca manim também possui diversas funções que serão usadas para criar as animações. Também podemos criar nossas próprias funções. Para criar uma função, usaremos a palavra-chave **def**."
   ]
  },
  {
   "cell_type": "code",
   "execution_count": 1,
   "metadata": {},
   "outputs": [],
   "source": [
    "def exibir_algo():\n",
    "    print('Função')"
   ]
  },
  {
   "cell_type": "markdown",
   "metadata": {},
   "source": [
    "Com isso, definimos uma função chamada printar_algo. Mas nada foi printado na tela? Isso acontece porque apenas definimos ela, mas não a chamamos. Para chamar uma função é simples, basta digitarmos seu nome seguido de parenteses"
   ]
  },
  {
   "cell_type": "code",
   "execution_count": 2,
   "metadata": {},
   "outputs": [
    {
     "name": "stdout",
     "output_type": "stream",
     "text": [
      "Função\n"
     ]
    }
   ],
   "source": [
    "exibir_algo()"
   ]
  },
  {
   "cell_type": "markdown",
   "metadata": {},
   "source": [
    "Agora, a função mostrou um texto na tela. Essa função é meio sem graça, então vamos adicionar algumas estruturas de controle."
   ]
  },
  {
   "cell_type": "code",
   "execution_count": 3,
   "metadata": {},
   "outputs": [
    {
     "name": "stdout",
     "output_type": "stream",
     "text": [
      "1 é maior que  0\n",
      "0\n",
      "1\n",
      "3.14\n"
     ]
    }
   ],
   "source": [
    "num1 = 0\n",
    "num2 = 1\n",
    "num3 = 3.14\n",
    "\n",
    "def controles():\n",
    "    if num1 > num2:\n",
    "        print(num1, ' é maior que ', num2)\n",
    "    else:\n",
    "        print(num2, 'é maior que ', num1)\n",
    "    for num in [num1, num2, num3]:\n",
    "        print(num)\n",
    "        \n",
    "controles()"
   ]
  },
  {
   "cell_type": "markdown",
   "metadata": {},
   "source": [
    "## Parâmetros\n",
    "Até agora, vimos como criar e executar funções. Agora, veremos parâmetros e retorno. Toda função pode conter parâmetros que passamos para ela. Por exemplo, na função print, precisamos passar uma string a qual será exibida na tela. Podemos criar funções com nossos próprios parâmetros. Por exemplo, uma função que soma todos os valores de uma lista."
   ]
  },
  {
   "cell_type": "code",
   "execution_count": 4,
   "metadata": {},
   "outputs": [
    {
     "name": "stdout",
     "output_type": "stream",
     "text": [
      "6\n"
     ]
    }
   ],
   "source": [
    "def somatorio(nums):\n",
    "    res = 0\n",
    "    for num in nums:\n",
    "        res += num\n",
    "    print(res)\n",
    "\n",
    "numeros = [1, 2, 3]\n",
    "somatorio(numeros)"
   ]
  },
  {
   "cell_type": "markdown",
   "metadata": {},
   "source": [
    "Acima, temos uma função com o parâmetro **nums**. Quando chamamos ela, passamos a variável **numeros** como parâmetro, que será copiada para dentro da função. Assim, nums receberá a lista números e a função irá realizar o somatório dessa lista. Observe que a função apenas exibe o resultado, mas e se quisermos recuperar esse valor. Vamos tentar do jeito que a função está."
   ]
  },
  {
   "cell_type": "code",
   "execution_count": 5,
   "metadata": {},
   "outputs": [
    {
     "name": "stdout",
     "output_type": "stream",
     "text": [
      "6\n",
      "None\n"
     ]
    }
   ],
   "source": [
    "soma = somatorio(numeros)\n",
    "print(soma)"
   ]
  },
  {
   "cell_type": "markdown",
   "metadata": {},
   "source": [
    "## Retorno\n",
    "Podemos observar que é exibido o valor da soma e um **None**. Isso acontece pois o print pega uma variável e o printa, mas a variável não possui valor e essa ausência de valor é o **None**. Ou seja, não estamos armazenando o valor calculado pela função na variável, estamos apenas exibindo o valor na tela. Há uma forma de recuperar esse valor, com o retorno. "
   ]
  },
  {
   "cell_type": "code",
   "execution_count": 6,
   "metadata": {},
   "outputs": [
    {
     "name": "stdout",
     "output_type": "stream",
     "text": [
      "6\n"
     ]
    }
   ],
   "source": [
    "def somatorio(nums):\n",
    "    res = 0\n",
    "    for num in nums:\n",
    "        res += num\n",
    "    return res\n",
    "\n",
    "numeros = [1, 2, 3]\n",
    "soma = somatorio(numeros)\n",
    "print(soma)"
   ]
  },
  {
   "cell_type": "markdown",
   "metadata": {},
   "source": [
    "Redefinimos a função somatorio e agora ela **retorna** o resultado do somatório, o qual podemos armazenar em uma variável chamada **soma** e printarmos."
   ]
  },
  {
   "cell_type": "markdown",
   "metadata": {},
   "source": [
    "## Múltiplos parâmetros\n",
    "Podemos ter mais de um parâmetro em uma função. Por exemplo, uma função que calcula a soma de 2 números"
   ]
  },
  {
   "cell_type": "code",
   "execution_count": 7,
   "metadata": {},
   "outputs": [
    {
     "name": "stdout",
     "output_type": "stream",
     "text": [
      "3\n"
     ]
    }
   ],
   "source": [
    "def soma(num1, num2):\n",
    "    return num1 + num2\n",
    "\n",
    "print(soma(1, 2))"
   ]
  },
  {
   "cell_type": "markdown",
   "metadata": {},
   "source": [
    "Na função acima, passamos o valor **1** para o parâmetro **num1** e o valor **2** para o parâmetro **num2**"
   ]
  },
  {
   "cell_type": "markdown",
   "metadata": {},
   "source": [
    "### Valores padrão\n",
    "Também podemos definir **valores padrão** à esses parâmetro. Isso significa que sempre que chamamos a função sem passar um dos parâmetros, esse parâmetro será substituído pelo valor padrão."
   ]
  },
  {
   "cell_type": "code",
   "execution_count": 8,
   "metadata": {},
   "outputs": [
    {
     "name": "stdout",
     "output_type": "stream",
     "text": [
      "4.140000000000001\n"
     ]
    }
   ],
   "source": [
    "def soma(num1=1, num2=3.14):\n",
    "    return num1 + num2\n",
    "\n",
    "print(soma())"
   ]
  },
  {
   "cell_type": "markdown",
   "metadata": {},
   "source": [
    "Também podemos escolher a quais parâmetros passamos quais valores."
   ]
  },
  {
   "cell_type": "code",
   "execution_count": 9,
   "metadata": {},
   "outputs": [
    {
     "name": "stdout",
     "output_type": "stream",
     "text": [
      "3\n"
     ]
    }
   ],
   "source": [
    "print(soma(num2=2, num1=1))"
   ]
  },
  {
   "cell_type": "markdown",
   "metadata": {},
   "source": [
    "### TODO\n",
    "- Citar o escopo das variáveis dentro e fora de funções\n",
    "- Enfatizar a modularização, talvez repetindo trechos e após isso substituindo"
   ]
  },
  {
   "cell_type": "markdown",
   "metadata": {},
   "source": [
    "## Escopo\n",
    "\n",
    "Na programação, temos um conceito importante chamado de **escopo** que diz respeito à **visibilidade de variáveis**. Podemos entender escopo como o lugar onde as variáveis estão, dentro ou fora de funções ou estruturas de controle. Por exemplo, se colocarmos uma variável dentro de um escopo, ela será vista apenas naquele escopo. Podemos fazer uma analogia com os conjuntos numéricos: <br>\n",
    "O conjunto dos naturais está dentro dos inteiros que está dentro dos racionais que está dentro dos reais que está dentro dos complexos.\n",
    "No exmploe acima, cada conjunto é um escopo. Vamos dar um exemplo com código."
   ]
  },
  {
   "cell_type": "code",
   "execution_count": 3,
   "metadata": {},
   "outputs": [
    {
     "name": "stdout",
     "output_type": "stream",
     "text": [
      "Escopo dos inteiros (naturais):  [1, 2, 3, 4]\n",
      "Escopo dos inteiros (inteiros):  [-3, -2, -1, 0, 1, 2, 3]\n",
      "Escopo dos naturais (naturais):  [1, 2, 3, 4]\n"
     ]
    },
    {
     "ename": "NameError",
     "evalue": "name 'inteiros' is not defined",
     "output_type": "error",
     "traceback": [
      "\u001b[1;31m---------------------------------------------------------------------------\u001b[0m",
      "\u001b[1;31mNameError\u001b[0m                                 Traceback (most recent call last)",
      "\u001b[1;32m<ipython-input-3-74b934c6098d>\u001b[0m in \u001b[0;36m<module>\u001b[1;34m\u001b[0m\n\u001b[0;32m      8\u001b[0m \u001b[1;33m\u001b[0m\u001b[0m\n\u001b[0;32m      9\u001b[0m \u001b[0mprint\u001b[0m\u001b[1;33m(\u001b[0m\u001b[1;34m'Escopo dos naturais (naturais): '\u001b[0m\u001b[1;33m,\u001b[0m \u001b[0mnaturais\u001b[0m\u001b[1;33m)\u001b[0m\u001b[1;33m\u001b[0m\u001b[1;33m\u001b[0m\u001b[0m\n\u001b[1;32m---> 10\u001b[1;33m \u001b[0mprint\u001b[0m\u001b[1;33m(\u001b[0m\u001b[1;34m'Escopo dos naturais (inteiros):'\u001b[0m\u001b[1;33m,\u001b[0m \u001b[0minteiros\u001b[0m\u001b[1;33m)\u001b[0m\u001b[1;33m\u001b[0m\u001b[1;33m\u001b[0m\u001b[0m\n\u001b[0m",
      "\u001b[1;31mNameError\u001b[0m: name 'inteiros' is not defined"
     ]
    }
   ],
   "source": [
    "naturais = [1, 2, 3, 4]\n",
    "def conjunto_inteiros():\n",
    "    inteiros = [-3, -2, -1, 0, 1, 2, 3]\n",
    "    print('Escopo dos inteiros (naturais): ', naturais)\n",
    "    print('Escopo dos inteiros (inteiros): ', inteiros)\n",
    "    \n",
    "conjunto_inteiros()\n",
    "    \n",
    "print('Escopo dos naturais (naturais): ', naturais)\n",
    "print('Escopo dos naturais (inteiros):', inteiros)"
   ]
  },
  {
   "cell_type": "markdown",
   "metadata": {},
   "source": [
    "Acima, podemos perceber que a variável naturais é vista dentro do escopo **global** enquanto a variável inteiro é vista apenas dentro da função conjunto_inteiros causando um erro. No escopo global, as variáveis podem ser vistas dentro de qualquer outro escopo. No caso, o escopo global possui a variável naturais que pode ser vista dentro da função conjunto_inteiros."
   ]
  },
  {
   "cell_type": "markdown",
   "metadata": {},
   "source": [
    "## Modularização\n",
    "Agora que temos os conceitos de funções, vamos falar sobre modularização. Com tudo que vimos até agora, podemos criar diversos programas com diversos fluxos de controle, mas um problema muito importante na programação é a complexidade. Dependendo de como um programa for criado, ele pode ficar muito confuso ou ter código repetido. Para isso, usamos funções que podem ser chamadas em várias partes do código, deixando o código mais organizado e bonito. Essa ideia de dividir o código em funções para organização é chamada **modularização**. Também podemos modularizar um código em diferentes arquivos, mas está fora do escopo desse curso.<br>\n",
    "📙 Consulte os [módulos](https://docs.python.org/3/tutorial/modules.html).\n"
   ]
  },
  {
   "cell_type": "markdown",
   "metadata": {},
   "source": [
    "Vamos exemplificar com um código sem modularização e um com modularização.<br>\n",
    "**Código sem modularização:**"
   ]
  },
  {
   "cell_type": "code",
   "execution_count": 4,
   "metadata": {},
   "outputs": [
    {
     "name": "stdout",
     "output_type": "stream",
     "text": [
      "Soma 1:  10\n",
      "Soma 2 6.85\n",
      "Soma 2 18.1\n"
     ]
    }
   ],
   "source": [
    "lista1 = [1, 2, 3, 4]\n",
    "soma = 0\n",
    "for num in lista1:\n",
    "    soma += num\n",
    "print('Soma 1: ', soma)\n",
    "\n",
    "soma = 0\n",
    "lista2 = [3.14, 2.71, 1, 0]\n",
    "for num in lista2:\n",
    "    soma += num\n",
    "print('Soma 2', soma)\n",
    "\n",
    "soma = 0\n",
    "lista3 = [1.6, 9.8, 6.7]\n",
    "for num in lista3:\n",
    "    soma += num\n",
    "print('Soma 2', soma)"
   ]
  },
  {
   "cell_type": "markdown",
   "metadata": {},
   "source": [
    "No programa acima, fazemos o somatório de 3 listas e ficamos com o código um pouco bagunçado e repetitivo. Para evitar isso, usaermos a modularização.<br>\n",
    "**Código com modularização**:"
   ]
  },
  {
   "cell_type": "code",
   "execution_count": 7,
   "metadata": {},
   "outputs": [
    {
     "name": "stdout",
     "output_type": "stream",
     "text": [
      "Soma1:  10\n",
      "Soma2:  6.85\n",
      "Soma3:  18.1\n"
     ]
    }
   ],
   "source": [
    "def somatorio(lista):\n",
    "    soma = 0\n",
    "    for num in lista:\n",
    "        soma += num\n",
    "    return soma\n",
    "\n",
    "lista = [1, 2, 3, 4]\n",
    "lista = [3.14, 2.71, 1, 0]\n",
    "lista = [1.6, 9.8, 6.7]\n",
    "\n",
    "print('Soma1: ',somatorio(lista1))\n",
    "print('Soma2: ', somatorio(lista2))\n",
    "print('Soma3: ', somatorio(lista3))"
   ]
  },
  {
   "cell_type": "markdown",
   "metadata": {},
   "source": [
    "Podemos perceber que o código ficou menor (de 17 para 13 linhas) e que ficou mais organizado pelo fato de termos criado uma função que faça o papel de realizar o somatório dos números."
   ]
  }
 ],
 "metadata": {
  "kernelspec": {
   "display_name": "Python 3",
   "language": "python",
   "name": "python3"
  },
  "language_info": {
   "codemirror_mode": {
    "name": "ipython",
    "version": 3
   },
   "file_extension": ".py",
   "mimetype": "text/x-python",
   "name": "python",
   "nbconvert_exporter": "python",
   "pygments_lexer": "ipython3",
   "version": "3.8.5"
  }
 },
 "nbformat": 4,
 "nbformat_minor": 4
}
