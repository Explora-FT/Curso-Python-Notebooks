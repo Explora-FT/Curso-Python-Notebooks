{
 "cells": [
  {
   "cell_type": "markdown",
   "metadata": {},
   "source": [
    "# Explora - Python\n",
    "## Funções\n",
    "Nas estruturas de controle, vimos como tomar decisões, desviar ou repetir partes do código. Agora vamos aprender a como criar funções, que são trechos de código que podem ser **reutilizados** em várias partes do código. Na verdade, já vimos uma função nos conceitos básicos, o **print**. Também podemos criar nossas próprias funções. Para criar uma função, usaremos a palavra-chave **def**."
   ]
  },
  {
   "cell_type": "code",
   "execution_count": 1,
   "metadata": {},
   "outputs": [],
   "source": [
    "def exibir_algo():\n",
    "    print('Função')"
   ]
  },
  {
   "cell_type": "markdown",
   "metadata": {},
   "source": [
    "Com isso, definimos uma função chamada printar_algo. Mas nada foi printado na tela? Isso acontece porque apenas definimos ela, mas não a chamamos. Para chamar uma função é simples, basta digitarmos seu nome seguido de parenteses"
   ]
  },
  {
   "cell_type": "code",
   "execution_count": 2,
   "metadata": {},
   "outputs": [
    {
     "name": "stdout",
     "output_type": "stream",
     "text": [
      "Função\n"
     ]
    }
   ],
   "source": [
    "exibir_algo()"
   ]
  },
  {
   "cell_type": "markdown",
   "metadata": {},
   "source": [
    "Agora, a função mostrou um texto na tela. Essa função é meio sem graça, então vamos adicionar algumas estruturas de controle."
   ]
  },
  {
   "cell_type": "code",
   "execution_count": 3,
   "metadata": {},
   "outputs": [
    {
     "name": "stdout",
     "output_type": "stream",
     "text": [
      "1 é maior que  0\n",
      "0\n",
      "1\n",
      "3.14\n"
     ]
    }
   ],
   "source": [
    "num1 = 0\n",
    "num2 = 1\n",
    "num3 = 3.14\n",
    "\n",
    "def controles():\n",
    "    if num1 > num2:\n",
    "        print(num1, ' é maior que ', num2)\n",
    "    else:\n",
    "        print(num2, 'é maior que ', num1)\n",
    "    for num in [num1, num2, num3]:\n",
    "        print(num)\n",
    "        \n",
    "controles()"
   ]
  },
  {
   "cell_type": "markdown",
   "metadata": {},
   "source": [
    "Até agora, vimos como criar e executar funções. Agora, veremos parâmetros e retorno. Toda função pode conter parâmetros que passamos para ela. Por exemplo, na função print, precisamos passar uma string a qual será exibida na tela. Podemos criar funções com nossos próprios parâmetros. Por exemplo, uma função que soma todos os valores de uma lista."
   ]
  },
  {
   "cell_type": "code",
   "execution_count": 4,
   "metadata": {},
   "outputs": [
    {
     "name": "stdout",
     "output_type": "stream",
     "text": [
      "6\n"
     ]
    }
   ],
   "source": [
    "def somatorio(nums):\n",
    "    res = 0\n",
    "    for num in nums:\n",
    "        res += num\n",
    "    print(res)\n",
    "\n",
    "numeros = [1, 2, 3]\n",
    "somatorio(numeros)"
   ]
  },
  {
   "cell_type": "markdown",
   "metadata": {},
   "source": [
    "Acima, temos uma função com o parâmetro **nums**. Quando chamamos ela, passamos a variável **numeros** como parâmetro, que será copiada para dentro da função. Assim, nums receberá a lista números e a função irá realizar o somatório dessa lista. Observe que a função apenas exibe o resultado, mas e se quisermos recuperar esse valor. Vamos tentar do jeito que a função está."
   ]
  },
  {
   "cell_type": "code",
   "execution_count": 5,
   "metadata": {},
   "outputs": [
    {
     "name": "stdout",
     "output_type": "stream",
     "text": [
      "6\n",
      "None\n"
     ]
    }
   ],
   "source": [
    "soma = somatorio(numeros)\n",
    "print(soma)"
   ]
  },
  {
   "cell_type": "markdown",
   "metadata": {},
   "source": [
    "Podemos observar que é exibido o valor da soma e um **None**. Isso acontece pois o print pega uma variável e o printa, mas a variável não possui valor e essa ausência de valor é o **None**. Ou seja, não estamos armazenando o valor calculado pela função na variável, estamos apenas exibindo o valor na tela. Há uma forma de recuperar esse valor, com o retorno. "
   ]
  },
  {
   "cell_type": "code",
   "execution_count": 6,
   "metadata": {},
   "outputs": [
    {
     "name": "stdout",
     "output_type": "stream",
     "text": [
      "6\n"
     ]
    }
   ],
   "source": [
    "def somatorio(nums):\n",
    "    res = 0\n",
    "    for num in nums:\n",
    "        res += num\n",
    "    return res\n",
    "\n",
    "numeros = [1, 2, 3]\n",
    "soma = somatorio(numeros)\n",
    "print(soma)"
   ]
  },
  {
   "cell_type": "markdown",
   "metadata": {},
   "source": [
    "Redefinimos a função somatorio e agora ela **retorna** o resultado do somatório, o qual podemos armazenar em uma variável chamada **soma** e printarmos."
   ]
  },
  {
   "cell_type": "markdown",
   "metadata": {},
   "source": [
    "Podemos ter mais de um parâmetro em uma função. Por exemplo, uma função que calcula a soma de 2 números"
   ]
  },
  {
   "cell_type": "code",
   "execution_count": 7,
   "metadata": {},
   "outputs": [
    {
     "name": "stdout",
     "output_type": "stream",
     "text": [
      "3\n"
     ]
    }
   ],
   "source": [
    "def soma(num1, num2):\n",
    "    return num1 + num2\n",
    "\n",
    "print(soma(1, 2))"
   ]
  },
  {
   "cell_type": "markdown",
   "metadata": {},
   "source": [
    "Na função acima, passamos o valor **1** para o parâmetro **num1** e o valor **2** para o parâmetro **num2**"
   ]
  },
  {
   "cell_type": "markdown",
   "metadata": {},
   "source": [
    "Também podemos definir **valores padrão** à esses parâmetro. Isso significa que sempre que chamamos a função sem passar um dos parâmetros, esse parâmetro será substituído pelo valor padrão."
   ]
  },
  {
   "cell_type": "code",
   "execution_count": 8,
   "metadata": {},
   "outputs": [
    {
     "name": "stdout",
     "output_type": "stream",
     "text": [
      "4.140000000000001\n"
     ]
    }
   ],
   "source": [
    "def soma(num1=1, num2=3.14):\n",
    "    return num1 + num2\n",
    "\n",
    "print(soma())"
   ]
  },
  {
   "cell_type": "markdown",
   "metadata": {},
   "source": [
    "Também podemos escolher a quais parâmetros passamos quais valores."
   ]
  },
  {
   "cell_type": "code",
   "execution_count": 9,
   "metadata": {},
   "outputs": [
    {
     "name": "stdout",
     "output_type": "stream",
     "text": [
      "3\n"
     ]
    }
   ],
   "source": [
    "print(soma(num2=2, num1=1))"
   ]
  },
  {
   "cell_type": "markdown",
   "metadata": {},
   "source": [
    "### TODO\n",
    "- Citar o escopo das variáveis dentro e fora de funções\n",
    "- Enfatizar a modularização, talvez repetindo trechos e após isso substituindo"
   ]
  }
 ],
 "metadata": {
  "kernelspec": {
   "display_name": "Python 3",
   "language": "python",
   "name": "python3"
  },
  "language_info": {
   "codemirror_mode": {
    "name": "ipython",
    "version": 3
   },
   "file_extension": ".py",
   "mimetype": "text/x-python",
   "name": "python",
   "nbconvert_exporter": "python",
   "pygments_lexer": "ipython3",
   "version": "3.6.9"
  }
 },
 "nbformat": 4,
 "nbformat_minor": 4
}
